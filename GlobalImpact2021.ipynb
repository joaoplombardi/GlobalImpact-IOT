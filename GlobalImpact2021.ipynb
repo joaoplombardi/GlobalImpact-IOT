{
  "nbformat": 4,
  "nbformat_minor": 0,
  "metadata": {
    "colab": {
      "name": "GlobalImpact2021.ipynb",
      "provenance": [],
      "collapsed_sections": []
    },
    "kernelspec": {
      "name": "python3",
      "display_name": "Python 3"
    },
    "language_info": {
      "name": "python"
    }
  },
  "cells": [
    {
      "cell_type": "code",
      "metadata": {
        "id": "ASwRq4srryw1"
      },
      "source": [
        "from sklearn.neighbors import KNeighborsClassifier\n",
        "amostras = []\n",
        "classes = []\n",
        "with open(\"../home/dataset_tomate.csv\", \"r\") as dataset:\n",
        "  aux = dataset.readline()\n",
        "  del aux\n",
        "  for linha in dataset.readlines():\n",
        "    x = linha.replace('\\n', '' ).split(',');\n",
        "    lista = [\n",
        "             round(float(x[1]), 2),\n",
        "             round(float(x[5])/10000, 2),\n",
        "             round(float(x[10])/10000, 2),\n",
        "             round(float(x[11]), 2),\n",
        "             round(float(x[15])/10000, 2),\n",
        "             round(float(x[16]), 2),\n",
        "             round(float(x[20])/10000, 2),\n",
        "             round(float(x[21]), 2) \n",
        "          ]\n",
        "    amostras.append(lista)\n",
        "    classes.append(round(float(x[22])))"
      ],
      "execution_count": 6,
      "outputs": []
    },
    {
      "cell_type": "code",
      "metadata": {
        "id": "-mwIaYJHvl4U"
      },
      "source": [
        "def info_dataset(classes, info=True):\n",
        "  output1, output2 = 0,0\n",
        "\n",
        "  for i in range(len(classes)):\n",
        "    if classes[i] == 1.0:\n",
        "      output1 += 1\n",
        "    else:\n",
        "      output2 += 1\n",
        "  if info == True:\n",
        "    print('Total de amostras: ', len(amostras))\n",
        "    print('Total Saudáveis: ', output1)\n",
        "    print('Total Estragados: ', output2)\n",
        "  \n",
        "  return [len(amostras), output1, output2]"
      ],
      "execution_count": 7,
      "outputs": []
    },
    {
      "cell_type": "code",
      "metadata": {
        "colab": {
          "base_uri": "https://localhost:8080/"
        },
        "id": "l5sbbq7bv4jb",
        "outputId": "16e9490c-f3c8-4f8a-b7ec-c8faaff33bae"
      },
      "source": [
        "info_dataset(classes)"
      ],
      "execution_count": 8,
      "outputs": [
        {
          "output_type": "stream",
          "name": "stdout",
          "text": [
            "Total de amostras:  132\n",
            "Total Saudáveis:  91\n",
            "Total Estragados:  41\n"
          ]
        },
        {
          "output_type": "execute_result",
          "data": {
            "text/plain": [
              "[132, 91, 41]"
            ]
          },
          "metadata": {},
          "execution_count": 8
        }
      ]
    },
    {
      "cell_type": "code",
      "metadata": {
        "id": "8s0dd0drvpdH"
      },
      "source": [
        "porcentagem = 0.8\n",
        "\n",
        "_, output1, output2 = info_dataset(classes, info=False)\n",
        "\n",
        "treinamento = []\n",
        "treinamento_classes =  []\n",
        "teste = []\n",
        "teste_classes = []\n",
        "\n",
        "max_output1 = int( porcentagem*output1 )\n",
        "max_output2 = int( porcentagem*output2 )\n",
        "\n",
        "\n",
        "total_output1 = 0\n",
        "total_output2 = 0\n",
        "\n",
        "for i in range(len(classes)):\n",
        "  if(classes[i] == 1 and total_output1 < max_output1):\n",
        "    treinamento.append(amostras[i])\n",
        "    treinamento_classes.append(classes[i])\n",
        "    total_output1 += 1\n",
        "  elif(classes[i] == 0 and total_output2 < max_output2):\n",
        "    treinamento.append(amostras[i])\n",
        "    treinamento_classes.append(classes[i])\n",
        "    total_output2 += 1\n",
        "  else:\n",
        "    teste.append(amostras[i])\n",
        "    teste_classes.append(classes[i])"
      ],
      "execution_count": 9,
      "outputs": []
    },
    {
      "cell_type": "code",
      "metadata": {
        "colab": {
          "base_uri": "https://localhost:8080/"
        },
        "id": "XbFznBawsHXe",
        "outputId": "16d8425b-b5f1-4198-b14a-3078d14bff4c"
      },
      "source": [
        "acertos = 0\n",
        "knn = KNeighborsClassifier(n_neighbors=17)\n",
        "knn.fit(treinamento, treinamento_classes)\n",
        "result = knn.predict(teste)\n",
        "for i in range(len(teste_classes)):\n",
        "  if result[i] == teste_classes[i]:\n",
        "    acertos += 1\n",
        "print(\"Total de treinamento \", len(treinamento))\n",
        "print(\"Total de testes \", len(teste))\n",
        "print(\"Total de acertos \", acertos)\n",
        "print(\"Porcentagem de acerto \", 100*acertos/len(teste))"
      ],
      "execution_count": 10,
      "outputs": [
        {
          "output_type": "stream",
          "name": "stdout",
          "text": [
            "Total de treinamento  104\n",
            "Total de testes  28\n",
            "Total de acertos  21\n",
            "Porcentagem de acerto  75.0\n"
          ]
        }
      ]
    }
  ]
}